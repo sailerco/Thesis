{
 "cells": [
  {
   "cell_type": "code",
   "execution_count": 1,
   "outputs": [],
   "source": [
    "import ray\n",
    "import torch\n",
    "from matplotlib import pyplot as plt\n",
    "from timeit import default_timer as timer\n",
    "\n",
    "import CsvConverter as conv\n",
    "import pandas as pd\n",
    "from transformers import pipeline\n",
    "import seaborn as sns"
   ],
   "metadata": {
    "collapsed": false,
    "ExecuteTime": {
     "end_time": "2024-05-14T07:40:03.975545800Z",
     "start_time": "2024-05-14T07:40:00.808115200Z"
    }
   },
   "id": "7b953f062b2729de"
  },
  {
   "cell_type": "code",
   "execution_count": 2,
   "outputs": [],
   "source": [
    "#import os\n",
    "#os.environ[\"PYTORCH_CUDA_ALLOC_CONF\"] = \"expandable_segments:True\"\n",
    "torch.cuda.empty_cache()"
   ],
   "metadata": {
    "collapsed": false,
    "ExecuteTime": {
     "end_time": "2024-05-14T07:40:03.981389100Z",
     "start_time": "2024-05-14T07:40:03.975545800Z"
    }
   },
   "id": "8bbff617c04ec17a"
  },
  {
   "cell_type": "markdown",
   "source": [
    "ZSC + NLI to match user stories to components "
   ],
   "metadata": {
    "collapsed": false
   },
   "id": "ee275d9c3048302e"
  },
  {
   "cell_type": "code",
   "execution_count": 3,
   "outputs": [
    {
     "name": "stdout",
     "output_type": "stream",
     "text": [
      "2.2.2+cu121\n",
      "True\n",
      "1\n",
      "cuda:0\n"
     ]
    }
   ],
   "source": [
    "print(torch.__version__)\n",
    "print(torch.cuda.is_available())\n",
    "print(torch.cuda.device_count())\n",
    "device = torch.device(\"cuda:0\" if torch.cuda.is_available() else \"cpu\")\n",
    "print(device)"
   ],
   "metadata": {
    "collapsed": false,
    "ExecuteTime": {
     "end_time": "2024-05-14T07:40:04.010977400Z",
     "start_time": "2024-05-14T07:40:03.979948500Z"
    }
   },
   "id": "6887b082ac6fad25"
  },
  {
   "cell_type": "code",
   "execution_count": 4,
   "outputs": [],
   "source": [
    "name = \"deberta_remain_reduce_8192\"\n",
    "url = 'D:/Thesis/MySQL_GroundTruth/ClassifierOutput/' + name\n",
    "\n",
    "bart = \"facebook/bart-large-mnli\"\n",
    "deberta_base = \"MoritzLaurer/DeBERTa-v3-base-mnli-fever-anli\"\n",
    "deberta_large = \"MoritzLaurer/DeBERTa-v3-large-mnli-fever-anli-ling-wanli\"\n",
    "sileod = 'sileod/deberta-v3-base-tasksource-nli'"
   ],
   "metadata": {
    "collapsed": false,
    "ExecuteTime": {
     "end_time": "2024-05-14T07:40:04.011480500Z",
     "start_time": "2024-05-14T07:40:04.005863100Z"
    }
   },
   "id": "initial_id"
  },
  {
   "cell_type": "code",
   "execution_count": 5,
   "outputs": [],
   "source": [
    "def get_sequence(url, columns, column):\n",
    "    sequence = pd.read_csv(url, delimiter=None, sep=None)\n",
    "    sequence.columns = columns\n",
    "    return sequence[column].tolist()\n",
    "\n",
    "\n",
    "def get_labels(url, delimiter):\n",
    "    df = pd.read_csv(url, header=None, encoding='ISO-8859-1', delimiter=delimiter)\n",
    "    return df[0].tolist()"
   ],
   "metadata": {
    "collapsed": false,
    "ExecuteTime": {
     "end_time": "2024-05-14T07:40:04.042359200Z",
     "start_time": "2024-05-14T07:40:04.008819600Z"
    }
   },
   "id": "a83015ad74f3690"
  },
  {
   "cell_type": "code",
   "execution_count": 6,
   "outputs": [],
   "source": [
    "@ray.remote(num_gpus=1, max_calls=1)\n",
    "def classification(name):\n",
    "    print(torch.cuda.is_available())\n",
    "    print(torch.cuda.device_count())\n",
    "    device = torch.device(\"cuda:0\" if torch.cuda.is_available() else \"cpu\")\n",
    "    print(device)\n",
    "    # loads ZSC from huggingface\n",
    "    classifier = pipeline('zero-shot-classification', device=device, model=deberta_base, batch_size=8)\n",
    "\n",
    "    #seq = get_sequence('assets/UserStoriesWithComponents_cleaned_filtered_no_title.csv', ['Type', 'Component_Names', 'TitleAndDescription'], 'TitleAndDescription')\n",
    "    seq = get_sequence('assets/UserStoriesWithComponents_remain_reduce_lower8000.csv', ['ID', 'Description', 'Type', 'Component_Names'], 'Description')\n",
    "    labels = get_labels('assets/components/remain_reduce_comps.csv', ';')\n",
    "    # do the classification\n",
    "    start = timer()\n",
    "    results = classifier(seq, labels, multi_label=True)\n",
    "    end = timer()\n",
    "    print(end-start)\n",
    "    print(\"Done\")\n",
    "    return results, seq"
   ],
   "metadata": {
    "collapsed": false,
    "ExecuteTime": {
     "end_time": "2024-05-14T07:40:04.050447200Z",
     "start_time": "2024-05-14T07:40:04.014763300Z"
    }
   },
   "id": "bf1a3909194f0bfd"
  },
  {
   "cell_type": "code",
   "execution_count": 7,
   "outputs": [
    {
     "name": "stderr",
     "output_type": "stream",
     "text": [
      "2024-05-14 09:40:05,755\tINFO worker.py:1749 -- Started a local Ray instance.\n"
     ]
    },
    {
     "name": "stdout",
     "output_type": "stream",
     "text": [
      "\u001B[36m(classification pid=10396)\u001B[0m True\n",
      "\u001B[36m(classification pid=10396)\u001B[0m 1\n",
      "\u001B[36m(classification pid=10396)\u001B[0m cuda:0\n"
     ]
    },
    {
     "name": "stderr",
     "output_type": "stream",
     "text": [
      "\u001B[36m(classification pid=10396)\u001B[0m C:\\Users\\Coco\\AppData\\Local\\Temp\\ipykernel_15480\\4294111192.py:2: ParserWarning: Falling back to the 'python' engine because the 'c' engine does not support sep=None with delim_whitespace=False; you can avoid this warning by specifying engine='python'.\n",
      "\u001B[36m(classification pid=10396)\u001B[0m Asking to truncate to max_length but no maximum length is provided and the model has no predefined maximum length. Default to no truncation.\n"
     ]
    },
    {
     "ename": "KeyboardInterrupt",
     "evalue": "",
     "output_type": "error",
     "traceback": [
      "\u001B[1;31m---------------------------------------------------------------------------\u001B[0m",
      "\u001B[1;31mKeyboardInterrupt\u001B[0m                         Traceback (most recent call last)",
      "Cell \u001B[1;32mIn[7], line 1\u001B[0m\n\u001B[1;32m----> 1\u001B[0m results,seq \u001B[38;5;241m=\u001B[39m \u001B[43mray\u001B[49m\u001B[38;5;241;43m.\u001B[39;49m\u001B[43mget\u001B[49m\u001B[43m(\u001B[49m\u001B[43mclassification\u001B[49m\u001B[38;5;241;43m.\u001B[39;49m\u001B[43mremote\u001B[49m\u001B[43m(\u001B[49m\u001B[43mname\u001B[49m\u001B[43m)\u001B[49m\u001B[43m)\u001B[49m\n\u001B[0;32m      2\u001B[0m \u001B[38;5;66;03m#results, seq = classification(name)\u001B[39;00m\n",
      "File \u001B[1;32mD:\\Thesis\\venv\\Lib\\site-packages\\ray\\_private\\auto_init_hook.py:21\u001B[0m, in \u001B[0;36mwrap_auto_init.<locals>.auto_init_wrapper\u001B[1;34m(*args, **kwargs)\u001B[0m\n\u001B[0;32m     18\u001B[0m \u001B[38;5;129m@wraps\u001B[39m(fn)\n\u001B[0;32m     19\u001B[0m \u001B[38;5;28;01mdef\u001B[39;00m \u001B[38;5;21mauto_init_wrapper\u001B[39m(\u001B[38;5;241m*\u001B[39margs, \u001B[38;5;241m*\u001B[39m\u001B[38;5;241m*\u001B[39mkwargs):\n\u001B[0;32m     20\u001B[0m     auto_init_ray()\n\u001B[1;32m---> 21\u001B[0m     \u001B[38;5;28;01mreturn\u001B[39;00m \u001B[43mfn\u001B[49m\u001B[43m(\u001B[49m\u001B[38;5;241;43m*\u001B[39;49m\u001B[43margs\u001B[49m\u001B[43m,\u001B[49m\u001B[43m \u001B[49m\u001B[38;5;241;43m*\u001B[39;49m\u001B[38;5;241;43m*\u001B[39;49m\u001B[43mkwargs\u001B[49m\u001B[43m)\u001B[49m\n",
      "File \u001B[1;32mD:\\Thesis\\venv\\Lib\\site-packages\\ray\\_private\\client_mode_hook.py:103\u001B[0m, in \u001B[0;36mclient_mode_hook.<locals>.wrapper\u001B[1;34m(*args, **kwargs)\u001B[0m\n\u001B[0;32m    101\u001B[0m     \u001B[38;5;28;01mif\u001B[39;00m func\u001B[38;5;241m.\u001B[39m\u001B[38;5;18m__name__\u001B[39m \u001B[38;5;241m!=\u001B[39m \u001B[38;5;124m\"\u001B[39m\u001B[38;5;124minit\u001B[39m\u001B[38;5;124m\"\u001B[39m \u001B[38;5;129;01mor\u001B[39;00m is_client_mode_enabled_by_default:\n\u001B[0;32m    102\u001B[0m         \u001B[38;5;28;01mreturn\u001B[39;00m \u001B[38;5;28mgetattr\u001B[39m(ray, func\u001B[38;5;241m.\u001B[39m\u001B[38;5;18m__name__\u001B[39m)(\u001B[38;5;241m*\u001B[39margs, \u001B[38;5;241m*\u001B[39m\u001B[38;5;241m*\u001B[39mkwargs)\n\u001B[1;32m--> 103\u001B[0m \u001B[38;5;28;01mreturn\u001B[39;00m \u001B[43mfunc\u001B[49m\u001B[43m(\u001B[49m\u001B[38;5;241;43m*\u001B[39;49m\u001B[43margs\u001B[49m\u001B[43m,\u001B[49m\u001B[43m \u001B[49m\u001B[38;5;241;43m*\u001B[39;49m\u001B[38;5;241;43m*\u001B[39;49m\u001B[43mkwargs\u001B[49m\u001B[43m)\u001B[49m\n",
      "File \u001B[1;32mD:\\Thesis\\venv\\Lib\\site-packages\\ray\\_private\\worker.py:2623\u001B[0m, in \u001B[0;36mget\u001B[1;34m(object_refs, timeout)\u001B[0m\n\u001B[0;32m   2617\u001B[0m     \u001B[38;5;28;01mraise\u001B[39;00m \u001B[38;5;167;01mValueError\u001B[39;00m(\n\u001B[0;32m   2618\u001B[0m         \u001B[38;5;124mf\u001B[39m\u001B[38;5;124m\"\u001B[39m\u001B[38;5;124mInvalid type of object refs, \u001B[39m\u001B[38;5;132;01m{\u001B[39;00m\u001B[38;5;28mtype\u001B[39m(object_refs)\u001B[38;5;132;01m}\u001B[39;00m\u001B[38;5;124m, is given. \u001B[39m\u001B[38;5;124m\"\u001B[39m\n\u001B[0;32m   2619\u001B[0m         \u001B[38;5;124m\"\u001B[39m\u001B[38;5;124m'\u001B[39m\u001B[38;5;124mobject_refs\u001B[39m\u001B[38;5;124m'\u001B[39m\u001B[38;5;124m must either be an ObjectRef or a list of ObjectRefs. \u001B[39m\u001B[38;5;124m\"\u001B[39m\n\u001B[0;32m   2620\u001B[0m     )\n\u001B[0;32m   2622\u001B[0m \u001B[38;5;66;03m# TODO(ujvl): Consider how to allow user to retrieve the ready objects.\u001B[39;00m\n\u001B[1;32m-> 2623\u001B[0m values, debugger_breakpoint \u001B[38;5;241m=\u001B[39m \u001B[43mworker\u001B[49m\u001B[38;5;241;43m.\u001B[39;49m\u001B[43mget_objects\u001B[49m\u001B[43m(\u001B[49m\u001B[43mobject_refs\u001B[49m\u001B[43m,\u001B[49m\u001B[43m \u001B[49m\u001B[43mtimeout\u001B[49m\u001B[38;5;241;43m=\u001B[39;49m\u001B[43mtimeout\u001B[49m\u001B[43m)\u001B[49m\n\u001B[0;32m   2624\u001B[0m \u001B[38;5;28;01mfor\u001B[39;00m i, value \u001B[38;5;129;01min\u001B[39;00m \u001B[38;5;28menumerate\u001B[39m(values):\n\u001B[0;32m   2625\u001B[0m     \u001B[38;5;28;01mif\u001B[39;00m \u001B[38;5;28misinstance\u001B[39m(value, RayError):\n",
      "File \u001B[1;32mD:\\Thesis\\venv\\Lib\\site-packages\\ray\\_private\\worker.py:840\u001B[0m, in \u001B[0;36mWorker.get_objects\u001B[1;34m(self, object_refs, timeout)\u001B[0m\n\u001B[0;32m    834\u001B[0m         \u001B[38;5;28;01mraise\u001B[39;00m \u001B[38;5;167;01mTypeError\u001B[39;00m(\n\u001B[0;32m    835\u001B[0m             \u001B[38;5;124mf\u001B[39m\u001B[38;5;124m\"\u001B[39m\u001B[38;5;124mAttempting to call `get` on the value \u001B[39m\u001B[38;5;132;01m{\u001B[39;00mobject_ref\u001B[38;5;132;01m}\u001B[39;00m\u001B[38;5;124m, \u001B[39m\u001B[38;5;124m\"\u001B[39m\n\u001B[0;32m    836\u001B[0m             \u001B[38;5;124m\"\u001B[39m\u001B[38;5;124mwhich is not an ray.ObjectRef.\u001B[39m\u001B[38;5;124m\"\u001B[39m\n\u001B[0;32m    837\u001B[0m         )\n\u001B[0;32m    839\u001B[0m timeout_ms \u001B[38;5;241m=\u001B[39m \u001B[38;5;28mint\u001B[39m(timeout \u001B[38;5;241m*\u001B[39m \u001B[38;5;241m1000\u001B[39m) \u001B[38;5;28;01mif\u001B[39;00m timeout \u001B[38;5;129;01mis\u001B[39;00m \u001B[38;5;129;01mnot\u001B[39;00m \u001B[38;5;28;01mNone\u001B[39;00m \u001B[38;5;28;01melse\u001B[39;00m \u001B[38;5;241m-\u001B[39m\u001B[38;5;241m1\u001B[39m\n\u001B[1;32m--> 840\u001B[0m data_metadata_pairs \u001B[38;5;241m=\u001B[39m \u001B[38;5;28;43mself\u001B[39;49m\u001B[38;5;241;43m.\u001B[39;49m\u001B[43mcore_worker\u001B[49m\u001B[38;5;241;43m.\u001B[39;49m\u001B[43mget_objects\u001B[49m\u001B[43m(\u001B[49m\n\u001B[0;32m    841\u001B[0m \u001B[43m    \u001B[49m\u001B[43mobject_refs\u001B[49m\u001B[43m,\u001B[49m\n\u001B[0;32m    842\u001B[0m \u001B[43m    \u001B[49m\u001B[38;5;28;43mself\u001B[39;49m\u001B[38;5;241;43m.\u001B[39;49m\u001B[43mcurrent_task_id\u001B[49m\u001B[43m,\u001B[49m\n\u001B[0;32m    843\u001B[0m \u001B[43m    \u001B[49m\u001B[43mtimeout_ms\u001B[49m\u001B[43m,\u001B[49m\n\u001B[0;32m    844\u001B[0m \u001B[43m\u001B[49m\u001B[43m)\u001B[49m\n\u001B[0;32m    845\u001B[0m debugger_breakpoint \u001B[38;5;241m=\u001B[39m \u001B[38;5;124mb\u001B[39m\u001B[38;5;124m\"\u001B[39m\u001B[38;5;124m\"\u001B[39m\n\u001B[0;32m    846\u001B[0m \u001B[38;5;28;01mfor\u001B[39;00m data, metadata \u001B[38;5;129;01min\u001B[39;00m data_metadata_pairs:\n",
      "File \u001B[1;32mpython\\ray\\_raylet.pyx:3481\u001B[0m, in \u001B[0;36mray._raylet.CoreWorker.get_objects\u001B[1;34m()\u001B[0m\n",
      "File \u001B[1;32mpython\\ray\\_raylet.pyx:571\u001B[0m, in \u001B[0;36mray._raylet.check_status\u001B[1;34m()\u001B[0m\n",
      "\u001B[1;31mKeyboardInterrupt\u001B[0m: "
     ]
    }
   ],
   "source": [
    "results,seq = ray.get(classification.remote(name))\n",
    "#results, seq = classification(name)"
   ],
   "metadata": {
    "collapsed": false,
    "ExecuteTime": {
     "end_time": "2024-05-14T07:41:02.694230500Z",
     "start_time": "2024-05-14T07:40:04.016271Z"
    }
   },
   "id": "fe8e2630ef788297"
  },
  {
   "cell_type": "code",
   "execution_count": null,
   "outputs": [],
   "source": [
    "with open('ClassifierOutput/' + name + '.txt', 'w', encoding='utf-8') as f:\n",
    "    for story, result in zip(seq, results):\n",
    "        f.write(f\"Story: {story}\\n\")\n",
    "        for label, score in zip(result['labels'], result['scores']):\n",
    "            f.write(f\"- {label}: {score:.2f}\\n\")"
   ],
   "metadata": {
    "collapsed": false,
    "ExecuteTime": {
     "end_time": "2024-05-14T07:41:02.700229400Z",
     "start_time": "2024-05-14T07:41:02.695229700Z"
    }
   },
   "id": "b837883497f0e587"
  },
  {
   "cell_type": "code",
   "execution_count": null,
   "outputs": [],
   "source": [
    "#csv = conv.CsvConverter(url + '.txt', url + '.csv', 'Story')\n",
    "#csv.convert()"
   ],
   "metadata": {
    "collapsed": false,
    "ExecuteTime": {
     "start_time": "2024-05-14T07:41:02.696231Z"
    }
   },
   "id": "f92de5b774645045"
  },
  {
   "cell_type": "code",
   "execution_count": null,
   "outputs": [],
   "source": [
    "import csv\n",
    "read_url = url + '.txt'\n",
    "save_url = url + '.csv'\n",
    "keyword = 'Story'\n",
    "with open(read_url, 'r', encoding='utf-8') as file:\n",
    "    lines = file.readlines()\n",
    "\n",
    "# dictonary, data is going to be saved to\n",
    "data = {}\n",
    "skill = None\n",
    "for line in lines:\n",
    "    if line.strip():\n",
    "        key, value = line.replace(\"\\n\", \"\").split(': ', 1)\n",
    "        #print(key, value)\n",
    "        if key.startswith(keyword):\n",
    "            skill = value\n",
    "            data[skill] = {}\n",
    "        else:\n",
    "            component, weight = key.replace(\"- \", \"\", 1), float(value)\n",
    "            data[skill][component] = weight\n",
    "\n",
    "# convert to a better format\n",
    "output_data = {}\n",
    "for skill, components in data.items():\n",
    "    for component, weight in components.items():\n",
    "        if component not in output_data:\n",
    "            output_data[component] = {}\n",
    "        output_data[component][skill] = weight\n",
    "\n",
    "# saving the file\n",
    "with open(save_url, 'w', newline='', encoding='utf-8') as file:\n",
    "    writer = csv.writer(file)\n",
    "    cleaned_headers = [header.strip().strip('\"') for header in list(data.keys())]\n",
    "    cleaned_headers.insert(0, 'Skills')\n",
    "    writer.writerow(cleaned_headers)\n",
    "    for component, values in output_data.items():\n",
    "        row = [component] + [values.get(skill, '') for skill in data.keys()]\n",
    "        writer.writerow(row)\n",
    "\n",
    "# Read the CSV file into a DataFrame and sort it\n",
    "df = pd.read_csv(save_url, encoding='ISO-8859-1')\n",
    "df_sorted = df.sort_values(by='Skills')\n",
    "df_sorted.to_csv(save_url, index=False)"
   ],
   "metadata": {
    "collapsed": false,
    "ExecuteTime": {
     "start_time": "2024-05-14T07:41:02.698229700Z"
    }
   },
   "id": "a1c4a39738d2fdec"
  },
  {
   "cell_type": "code",
   "execution_count": null,
   "outputs": [],
   "source": [
    "\"\"\"name = \"bart_remain_reduce\"\n",
    "url = 'D:/Thesis/MySQL_GroundTruth/ClassifierOutput/' + name\n",
    "def create(title, name, url):\n",
    "    # Load data from CSV\n",
    "    data = pd.read_csv(url + '.csv', header=0, index_col=0, encoding='ISO-8859-1', delimiter=None, sep=None)  # Update with your file path\n",
    "    plt.figure(figsize=(40, 40))\n",
    "    heatmap = sns.heatmap(data, cmap='Blues', annot=True)\n",
    "    plt.title(title)\n",
    "    plt.savefig('heatmap/heatmap_' + name + '.png')\n",
    "\n",
    "\n",
    "create(name, name, url)\"\"\""
   ],
   "metadata": {
    "collapsed": false,
    "ExecuteTime": {
     "start_time": "2024-05-14T07:41:02.698229700Z"
    }
   },
   "id": "720478fea385b410"
  },
  {
   "cell_type": "code",
   "execution_count": null,
   "outputs": [],
   "source": [],
   "metadata": {
    "collapsed": false,
    "ExecuteTime": {
     "start_time": "2024-05-14T07:41:02.699229300Z"
    }
   },
   "id": "a1250a72d3d2cfe8"
  }
 ],
 "metadata": {
  "kernelspec": {
   "display_name": "Python 3",
   "language": "python",
   "name": "python3"
  },
  "language_info": {
   "codemirror_mode": {
    "name": "ipython",
    "version": 2
   },
   "file_extension": ".py",
   "mimetype": "text/x-python",
   "name": "python",
   "nbconvert_exporter": "python",
   "pygments_lexer": "ipython2",
   "version": "2.7.6"
  }
 },
 "nbformat": 4,
 "nbformat_minor": 5
}
