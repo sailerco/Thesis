{
 "cells": [
  {
   "cell_type": "code",
   "execution_count": 1,
   "outputs": [],
   "source": [
    "from transformers import AutoModelForSequenceClassification, AutoTokenizer\n",
    "import re\n",
    "from collections import Counter\n",
    "import pandas as pd\n",
    "import numpy as np\n",
    "import torch\n",
    "from datasets import Dataset, load_metric\n",
    "from sklearn.model_selection import train_test_split\n",
    "from transformers import TrainingArguments, Trainer\n",
    "from transformers import pipeline\n",
    "import CsvConverter as Conv\n",
    "import os"
   ],
   "metadata": {
    "collapsed": false,
    "ExecuteTime": {
     "end_time": "2024-06-14T06:40:24.549461700Z",
     "start_time": "2024-06-14T06:40:19.294665800Z"
    }
   },
   "id": "7dee6fb31143df24"
  },
  {
   "cell_type": "code",
   "execution_count": 2,
   "outputs": [],
   "source": [
    "device = torch.device(\"cuda:0\" if torch.cuda.is_available() else \"cpu\")"
   ],
   "metadata": {
    "collapsed": false,
    "ExecuteTime": {
     "end_time": "2024-06-14T06:40:24.568937100Z",
     "start_time": "2024-06-14T06:40:24.551465400Z"
    }
   },
   "id": "31e9d7966a332671"
  },
  {
   "cell_type": "code",
   "execution_count": 3,
   "outputs": [],
   "source": [
    "user_stories_df = pd.read_csv('../DB_GroundTruth/userStories.csv', delimiter=';')\n",
    "user_stories = user_stories_df['user_stories'].tolist()\n",
    "df = pd.read_csv('D:/Thesis/DB/datasets/skills.csv', header=None, encoding='ISO-8859-1')\n",
    "labels = df[0].tolist()"
   ],
   "metadata": {
    "collapsed": false,
    "ExecuteTime": {
     "end_time": "2024-06-14T06:40:24.577088700Z",
     "start_time": "2024-06-14T06:40:24.570401200Z"
    }
   },
   "id": "4fc37699e4844f01"
  },
  {
   "cell_type": "code",
   "execution_count": 4,
   "outputs": [],
   "source": [
    "user_stories_df['skills'] = user_stories_df['skills'].apply(lambda x: [i.strip().replace(\"'\", \"\") for i in x.split(\",\")])"
   ],
   "metadata": {
    "collapsed": false,
    "ExecuteTime": {
     "end_time": "2024-06-14T06:40:24.579723Z",
     "start_time": "2024-06-14T06:40:24.577088700Z"
    }
   },
   "id": "a5c5def21d5a0f1b"
  },
  {
   "cell_type": "code",
   "execution_count": 5,
   "outputs": [
    {
     "data": {
      "text/plain": "                                         user_stories  \\\n0   As a software developer at our company, I want...   \n1   As a software developer at our company, I want...   \n2   As a DevOps engineer at our company, I want to...   \n3   As a software engineer at our cryptocurrency d...   \n4   As a UI/UX designer and developer at our softw...   \n..                                                ...   \n95  As a DevOps engineer, I want to automate the b...   \n96  As a web developer, I want to implement a user...   \n97  As a QA engineer, I want to integrate Selenium...   \n98  As an IT administrator, I want to implement se...   \n99  As a database developer, I want to optimize ou...   \n\n                                               skills  \n0   [MQTT, IoT,  Sensor Integration,  Smart contra...  \n1   [Pandas, scikit-learn, Natural Language Proces...  \n2                                        [GCP, Azure]  \n3   [Cryptocurrency development, IoT, MQTT, Sensor...  \n4        [UI Design, Responsive Design, React Native]  \n..                                                ...  \n95                [GCP, Build Automation, Kubernetes]  \n96   [HTML, React, CSS, UI Design, Web Accessibility]  \n97                    [Agile Methodologies, Selenium]  \n98  [Troubleshooting, Active Directory, Security B...  \n99          [Microsoft SQL Server, RDBMS, MySQL, SQL]  \n\n[100 rows x 2 columns]",
      "text/html": "<div>\n<style scoped>\n    .dataframe tbody tr th:only-of-type {\n        vertical-align: middle;\n    }\n\n    .dataframe tbody tr th {\n        vertical-align: top;\n    }\n\n    .dataframe thead th {\n        text-align: right;\n    }\n</style>\n<table border=\"1\" class=\"dataframe\">\n  <thead>\n    <tr style=\"text-align: right;\">\n      <th></th>\n      <th>user_stories</th>\n      <th>skills</th>\n    </tr>\n  </thead>\n  <tbody>\n    <tr>\n      <th>0</th>\n      <td>As a software developer at our company, I want...</td>\n      <td>[MQTT, IoT,  Sensor Integration,  Smart contra...</td>\n    </tr>\n    <tr>\n      <th>1</th>\n      <td>As a software developer at our company, I want...</td>\n      <td>[Pandas, scikit-learn, Natural Language Proces...</td>\n    </tr>\n    <tr>\n      <th>2</th>\n      <td>As a DevOps engineer at our company, I want to...</td>\n      <td>[GCP, Azure]</td>\n    </tr>\n    <tr>\n      <th>3</th>\n      <td>As a software engineer at our cryptocurrency d...</td>\n      <td>[Cryptocurrency development, IoT, MQTT, Sensor...</td>\n    </tr>\n    <tr>\n      <th>4</th>\n      <td>As a UI/UX designer and developer at our softw...</td>\n      <td>[UI Design, Responsive Design, React Native]</td>\n    </tr>\n    <tr>\n      <th>...</th>\n      <td>...</td>\n      <td>...</td>\n    </tr>\n    <tr>\n      <th>95</th>\n      <td>As a DevOps engineer, I want to automate the b...</td>\n      <td>[GCP, Build Automation, Kubernetes]</td>\n    </tr>\n    <tr>\n      <th>96</th>\n      <td>As a web developer, I want to implement a user...</td>\n      <td>[HTML, React, CSS, UI Design, Web Accessibility]</td>\n    </tr>\n    <tr>\n      <th>97</th>\n      <td>As a QA engineer, I want to integrate Selenium...</td>\n      <td>[Agile Methodologies, Selenium]</td>\n    </tr>\n    <tr>\n      <th>98</th>\n      <td>As an IT administrator, I want to implement se...</td>\n      <td>[Troubleshooting, Active Directory, Security B...</td>\n    </tr>\n    <tr>\n      <th>99</th>\n      <td>As a database developer, I want to optimize ou...</td>\n      <td>[Microsoft SQL Server, RDBMS, MySQL, SQL]</td>\n    </tr>\n  </tbody>\n</table>\n<p>100 rows × 2 columns</p>\n</div>"
     },
     "execution_count": 5,
     "metadata": {},
     "output_type": "execute_result"
    }
   ],
   "source": [
    "user_stories_df"
   ],
   "metadata": {
    "collapsed": false,
    "ExecuteTime": {
     "end_time": "2024-06-14T06:40:24.591948600Z",
     "start_time": "2024-06-14T06:40:24.581726900Z"
    }
   },
   "id": "147b8e2ce09340e5"
  },
  {
   "cell_type": "code",
   "execution_count": 6,
   "outputs": [],
   "source": [
    "contras_df = pd.read_csv('truth.csv', index_col=0)\n"
   ],
   "metadata": {
    "collapsed": false,
    "ExecuteTime": {
     "end_time": "2024-06-14T06:40:24.597502500Z",
     "start_time": "2024-06-14T06:40:24.591948600Z"
    }
   },
   "id": "ca7f6133a8f64dff"
  },
  {
   "cell_type": "code",
   "execution_count": 7,
   "outputs": [],
   "source": [
    "# Extract NaN skills for each column\n",
    "skills_nan = {col: contras_df.loc[contras_df[col].isna()].index.tolist() for col in contras_df.columns}"
   ],
   "metadata": {
    "collapsed": false,
    "ExecuteTime": {
     "end_time": "2024-06-14T06:40:24.609512800Z",
     "start_time": "2024-06-14T06:40:24.597502500Z"
    }
   },
   "id": "47016e54ed1b77bf"
  },
  {
   "cell_type": "code",
   "execution_count": 8,
   "outputs": [],
   "source": [
    "# Create a new DataFrame with the desired structure\n",
    "new_data = []\n",
    "for col, nan_indices in skills_nan.items():\n",
    "    #nan_indices = ', '.join(nan_indices)\n",
    "    new_data.append([col, nan_indices])"
   ],
   "metadata": {
    "collapsed": false,
    "ExecuteTime": {
     "end_time": "2024-06-14T06:40:24.621704200Z",
     "start_time": "2024-06-14T06:40:24.610517300Z"
    }
   },
   "id": "123fe4e365a4bf62"
  },
  {
   "cell_type": "code",
   "execution_count": 9,
   "outputs": [],
   "source": [
    "contras_df = pd.DataFrame(new_data, columns=['user_stories', 'skills'])"
   ],
   "metadata": {
    "collapsed": false,
    "ExecuteTime": {
     "end_time": "2024-06-14T06:40:24.622704500Z",
     "start_time": "2024-06-14T06:40:24.613589300Z"
    }
   },
   "id": "62791ad44eb80544"
  },
  {
   "cell_type": "code",
   "execution_count": 10,
   "outputs": [],
   "source": [
    "model_name = \"deberta\"\n",
    "if model_name == \"bart\":\n",
    "    model_dir = \"facebook/bart-large-mnli\"\n",
    "else:\n",
    "    model_dir = \"MoritzLaurer/DeBERTa-v3-base-mnli-fever-anli\"\n",
    "tokenizer = AutoTokenizer.from_pretrained(model_dir)\n",
    "model = AutoModelForSequenceClassification.from_pretrained(model_dir)"
   ],
   "metadata": {
    "collapsed": false,
    "ExecuteTime": {
     "end_time": "2024-06-14T06:40:26.304494500Z",
     "start_time": "2024-06-14T06:40:24.617195100Z"
    }
   },
   "id": "initial_id"
  },
  {
   "cell_type": "code",
   "execution_count": 11,
   "outputs": [],
   "source": [
    "def get_new_tokens(sentences, vocabulary):\n",
    "    vocab_set = set(vocabulary)\n",
    "    cleaned_words = (re.sub(r\"[.'\\s\\n]+|('\\s)\", \"\", word).lower().strip() for sentence in sentences for word in\n",
    "                     sentence)\n",
    "    return [word for word in cleaned_words if word not in vocab_set and word]"
   ],
   "metadata": {
    "collapsed": false,
    "ExecuteTime": {
     "end_time": "2024-06-14T06:40:26.307505300Z",
     "start_time": "2024-06-14T06:40:26.304494500Z"
    }
   },
   "id": "7cdd7dc96762187c"
  },
  {
   "cell_type": "code",
   "execution_count": 12,
   "outputs": [],
   "source": [
    "def word_count(word_list):\n",
    "    return Counter(word_list)"
   ],
   "metadata": {
    "collapsed": false,
    "ExecuteTime": {
     "end_time": "2024-06-14T06:40:26.320430600Z",
     "start_time": "2024-06-14T06:40:26.308509100Z"
    }
   },
   "id": "69437d4fecb1fa74"
  },
  {
   "cell_type": "code",
   "execution_count": 13,
   "outputs": [],
   "source": [
    "def tokenize(data):\n",
    "    data['hypothesis'] = data['hypothesis'].astype(\"str\")\n",
    "    premises = []\n",
    "    for x in data['premise'].to_list():\n",
    "        premises.extend([item.strip() for item in x])\n",
    "    #data['premise'] = data['premise'].astype(\"str\")\n",
    "    sentences = data['hypothesis'].to_list() + premises\n",
    "    #sentences = [sentence.replace(\",\", \"\") for sentence in sentences]\n",
    "    \n",
    "    vocabulary = tokenizer.get_vocab().keys()\n",
    "    tokens_to_add = get_new_tokens(sentences, vocabulary)\n",
    "    words = word_count(tokens_to_add)\n",
    "    # Initialize an empty list to store new tokens + Loop through the words and their counts\n",
    "    new_tokens = []\n",
    "    for key, value in words.items():\n",
    "        if value > 10 and len(key) > 2:\n",
    "            new_tokens.append(key)\n",
    "    tokenizer.add_tokens(new_tokens)\n",
    "    model.resize_token_embeddings(len(tokenizer))"
   ],
   "metadata": {
    "collapsed": false,
    "ExecuteTime": {
     "end_time": "2024-06-14T06:40:26.323151200Z",
     "start_time": "2024-06-14T06:40:26.322647300Z"
    }
   },
   "id": "987ec13a62e57310"
  },
  {
   "cell_type": "code",
   "execution_count": 14,
   "outputs": [],
   "source": [
    "def synth_to_nli(data, value):\n",
    "    data = data.copy()\n",
    "    data.rename(columns={'user_stories': 'hypothesis', 'skills': 'premise'}, inplace=True)\n",
    "    data['class'] = value\n",
    "    tokenize(data)\n",
    "    return data"
   ],
   "metadata": {
    "collapsed": false,
    "ExecuteTime": {
     "end_time": "2024-06-14T06:40:26.326836600Z",
     "start_time": "2024-06-14T06:40:26.326333Z"
    }
   },
   "id": "dfe5d6d76115d004"
  },
  {
   "cell_type": "code",
   "execution_count": 15,
   "outputs": [],
   "source": [
    "df = synth_to_nli(user_stories_df, 0)"
   ],
   "metadata": {
    "collapsed": false,
    "ExecuteTime": {
     "end_time": "2024-06-14T06:40:26.371838200Z",
     "start_time": "2024-06-14T06:40:26.328348300Z"
    }
   },
   "id": "a5801ad7d1a0f8e8"
  },
  {
   "cell_type": "code",
   "execution_count": 16,
   "outputs": [],
   "source": [
    "contras_df = synth_to_nli(contras_df, 2)\n"
   ],
   "metadata": {
    "collapsed": false,
    "ExecuteTime": {
     "end_time": "2024-06-14T06:40:26.481295600Z",
     "start_time": "2024-06-14T06:40:26.372839100Z"
    }
   },
   "id": "c966ce8208117ed6"
  },
  {
   "cell_type": "code",
   "execution_count": 17,
   "outputs": [
    {
     "data": {
      "text/plain": "                                           hypothesis  \\\n0   As a software developer at our company, I want...   \n1   As a software developer at our company, I want...   \n2   As a DevOps engineer at our company, I want to...   \n3   As a software engineer at our cryptocurrency d...   \n4   As a UI/UX designer and developer at our softw...   \n..                                                ...   \n95  As a DevOps engineer, I want to automate the b...   \n96  As a web developer, I want to implement a user...   \n97  As a QA engineer, I want to integrate Selenium...   \n98  As an IT administrator, I want to implement se...   \n99  As a database developer, I want to optimize ou...   \n\n                                              premise  class  \n0   [MQTT, IoT,  Sensor Integration,  Smart contra...      0  \n1   [Pandas, scikit-learn, Natural Language Proces...      0  \n2                                        [GCP, Azure]      0  \n3   [Cryptocurrency development, IoT, MQTT, Sensor...      0  \n4        [UI Design, Responsive Design, React Native]      0  \n..                                                ...    ...  \n95                [GCP, Build Automation, Kubernetes]      0  \n96   [HTML, React, CSS, UI Design, Web Accessibility]      0  \n97                    [Agile Methodologies, Selenium]      0  \n98  [Troubleshooting, Active Directory, Security B...      0  \n99          [Microsoft SQL Server, RDBMS, MySQL, SQL]      0  \n\n[100 rows x 3 columns]",
      "text/html": "<div>\n<style scoped>\n    .dataframe tbody tr th:only-of-type {\n        vertical-align: middle;\n    }\n\n    .dataframe tbody tr th {\n        vertical-align: top;\n    }\n\n    .dataframe thead th {\n        text-align: right;\n    }\n</style>\n<table border=\"1\" class=\"dataframe\">\n  <thead>\n    <tr style=\"text-align: right;\">\n      <th></th>\n      <th>hypothesis</th>\n      <th>premise</th>\n      <th>class</th>\n    </tr>\n  </thead>\n  <tbody>\n    <tr>\n      <th>0</th>\n      <td>As a software developer at our company, I want...</td>\n      <td>[MQTT, IoT,  Sensor Integration,  Smart contra...</td>\n      <td>0</td>\n    </tr>\n    <tr>\n      <th>1</th>\n      <td>As a software developer at our company, I want...</td>\n      <td>[Pandas, scikit-learn, Natural Language Proces...</td>\n      <td>0</td>\n    </tr>\n    <tr>\n      <th>2</th>\n      <td>As a DevOps engineer at our company, I want to...</td>\n      <td>[GCP, Azure]</td>\n      <td>0</td>\n    </tr>\n    <tr>\n      <th>3</th>\n      <td>As a software engineer at our cryptocurrency d...</td>\n      <td>[Cryptocurrency development, IoT, MQTT, Sensor...</td>\n      <td>0</td>\n    </tr>\n    <tr>\n      <th>4</th>\n      <td>As a UI/UX designer and developer at our softw...</td>\n      <td>[UI Design, Responsive Design, React Native]</td>\n      <td>0</td>\n    </tr>\n    <tr>\n      <th>...</th>\n      <td>...</td>\n      <td>...</td>\n      <td>...</td>\n    </tr>\n    <tr>\n      <th>95</th>\n      <td>As a DevOps engineer, I want to automate the b...</td>\n      <td>[GCP, Build Automation, Kubernetes]</td>\n      <td>0</td>\n    </tr>\n    <tr>\n      <th>96</th>\n      <td>As a web developer, I want to implement a user...</td>\n      <td>[HTML, React, CSS, UI Design, Web Accessibility]</td>\n      <td>0</td>\n    </tr>\n    <tr>\n      <th>97</th>\n      <td>As a QA engineer, I want to integrate Selenium...</td>\n      <td>[Agile Methodologies, Selenium]</td>\n      <td>0</td>\n    </tr>\n    <tr>\n      <th>98</th>\n      <td>As an IT administrator, I want to implement se...</td>\n      <td>[Troubleshooting, Active Directory, Security B...</td>\n      <td>0</td>\n    </tr>\n    <tr>\n      <th>99</th>\n      <td>As a database developer, I want to optimize ou...</td>\n      <td>[Microsoft SQL Server, RDBMS, MySQL, SQL]</td>\n      <td>0</td>\n    </tr>\n  </tbody>\n</table>\n<p>100 rows × 3 columns</p>\n</div>"
     },
     "execution_count": 17,
     "metadata": {},
     "output_type": "execute_result"
    }
   ],
   "source": [
    "df"
   ],
   "metadata": {
    "collapsed": false,
    "ExecuteTime": {
     "end_time": "2024-06-14T06:40:26.487785100Z",
     "start_time": "2024-06-14T06:40:26.481295600Z"
    }
   },
   "id": "b84383075aa08176"
  },
  {
   "cell_type": "code",
   "execution_count": 18,
   "outputs": [],
   "source": [
    "df = df.explode('premise')\n",
    "contras_df = contras_df.explode('premise')\n",
    "contras_df = contras_df.sample(359)"
   ],
   "metadata": {
    "collapsed": false,
    "ExecuteTime": {
     "end_time": "2024-06-14T06:40:26.494628800Z",
     "start_time": "2024-06-14T06:40:26.490016900Z"
    }
   },
   "id": "7d7df2f4de5604d8"
  },
  {
   "cell_type": "code",
   "execution_count": 19,
   "outputs": [
    {
     "data": {
      "text/plain": "                                           hypothesis               premise  \\\n0   As a software developer at our company, I want...                  MQTT   \n0   As a software developer at our company, I want...                   IoT   \n0   As a software developer at our company, I want...    Sensor Integration   \n0   As a software developer at our company, I want...       Smart contracts   \n1   As a software developer at our company, I want...                Pandas   \n..                                                ...                   ...   \n98  As an IT administrator, I want to implement se...   Backup and Recovery   \n99  As a database developer, I want to optimize ou...  Microsoft SQL Server   \n99  As a database developer, I want to optimize ou...                 RDBMS   \n99  As a database developer, I want to optimize ou...                 MySQL   \n99  As a database developer, I want to optimize ou...                   SQL   \n\n    class  \n0       0  \n0       0  \n0       0  \n0       0  \n1       0  \n..    ...  \n98      0  \n99      0  \n99      0  \n99      0  \n99      0  \n\n[359 rows x 3 columns]",
      "text/html": "<div>\n<style scoped>\n    .dataframe tbody tr th:only-of-type {\n        vertical-align: middle;\n    }\n\n    .dataframe tbody tr th {\n        vertical-align: top;\n    }\n\n    .dataframe thead th {\n        text-align: right;\n    }\n</style>\n<table border=\"1\" class=\"dataframe\">\n  <thead>\n    <tr style=\"text-align: right;\">\n      <th></th>\n      <th>hypothesis</th>\n      <th>premise</th>\n      <th>class</th>\n    </tr>\n  </thead>\n  <tbody>\n    <tr>\n      <th>0</th>\n      <td>As a software developer at our company, I want...</td>\n      <td>MQTT</td>\n      <td>0</td>\n    </tr>\n    <tr>\n      <th>0</th>\n      <td>As a software developer at our company, I want...</td>\n      <td>IoT</td>\n      <td>0</td>\n    </tr>\n    <tr>\n      <th>0</th>\n      <td>As a software developer at our company, I want...</td>\n      <td>Sensor Integration</td>\n      <td>0</td>\n    </tr>\n    <tr>\n      <th>0</th>\n      <td>As a software developer at our company, I want...</td>\n      <td>Smart contracts</td>\n      <td>0</td>\n    </tr>\n    <tr>\n      <th>1</th>\n      <td>As a software developer at our company, I want...</td>\n      <td>Pandas</td>\n      <td>0</td>\n    </tr>\n    <tr>\n      <th>...</th>\n      <td>...</td>\n      <td>...</td>\n      <td>...</td>\n    </tr>\n    <tr>\n      <th>98</th>\n      <td>As an IT administrator, I want to implement se...</td>\n      <td>Backup and Recovery</td>\n      <td>0</td>\n    </tr>\n    <tr>\n      <th>99</th>\n      <td>As a database developer, I want to optimize ou...</td>\n      <td>Microsoft SQL Server</td>\n      <td>0</td>\n    </tr>\n    <tr>\n      <th>99</th>\n      <td>As a database developer, I want to optimize ou...</td>\n      <td>RDBMS</td>\n      <td>0</td>\n    </tr>\n    <tr>\n      <th>99</th>\n      <td>As a database developer, I want to optimize ou...</td>\n      <td>MySQL</td>\n      <td>0</td>\n    </tr>\n    <tr>\n      <th>99</th>\n      <td>As a database developer, I want to optimize ou...</td>\n      <td>SQL</td>\n      <td>0</td>\n    </tr>\n  </tbody>\n</table>\n<p>359 rows × 3 columns</p>\n</div>"
     },
     "execution_count": 19,
     "metadata": {},
     "output_type": "execute_result"
    }
   ],
   "source": [
    "df"
   ],
   "metadata": {
    "collapsed": false,
    "ExecuteTime": {
     "end_time": "2024-06-14T06:40:26.500922800Z",
     "start_time": "2024-06-14T06:40:26.494628800Z"
    }
   },
   "id": "9468155519304301"
  },
  {
   "cell_type": "code",
   "execution_count": 20,
   "outputs": [],
   "source": [
    "df = pd.concat([df, contras_df], ignore_index=True)"
   ],
   "metadata": {
    "collapsed": false,
    "ExecuteTime": {
     "end_time": "2024-06-14T06:40:26.503708900Z",
     "start_time": "2024-06-14T06:40:26.502178200Z"
    }
   },
   "id": "36333a41993d494c"
  },
  {
   "cell_type": "code",
   "execution_count": 21,
   "outputs": [
    {
     "data": {
      "text/plain": "                                            hypothesis  \\\n0    As a software developer at our company, I want...   \n1    As a software developer at our company, I want...   \n2    As a software developer at our company, I want...   \n3    As a software developer at our company, I want...   \n4    As a software developer at our company, I want...   \n..                                                 ...   \n713  As a data analyst, I want to develop a text pr...   \n714  As a member of the development team, I want to...   \n715  As a software developer, I want to containeriz...   \n716  As a web developer, I want to enhance the user...   \n717  As a database engineer in our software company...   \n\n                          premise  class  \n0                            MQTT      0  \n1                             IoT      0  \n2              Sensor Integration      0  \n3                 Smart contracts      0  \n4                          Pandas      0  \n..                            ...    ...  \n713        Firewall Configuration      2  \n714  UX/UI Design and Prototyping      2  \n715             Usability Testing      2  \n716         Big Data Technologies      2  \n717           Intrusion Detection      2  \n\n[718 rows x 3 columns]",
      "text/html": "<div>\n<style scoped>\n    .dataframe tbody tr th:only-of-type {\n        vertical-align: middle;\n    }\n\n    .dataframe tbody tr th {\n        vertical-align: top;\n    }\n\n    .dataframe thead th {\n        text-align: right;\n    }\n</style>\n<table border=\"1\" class=\"dataframe\">\n  <thead>\n    <tr style=\"text-align: right;\">\n      <th></th>\n      <th>hypothesis</th>\n      <th>premise</th>\n      <th>class</th>\n    </tr>\n  </thead>\n  <tbody>\n    <tr>\n      <th>0</th>\n      <td>As a software developer at our company, I want...</td>\n      <td>MQTT</td>\n      <td>0</td>\n    </tr>\n    <tr>\n      <th>1</th>\n      <td>As a software developer at our company, I want...</td>\n      <td>IoT</td>\n      <td>0</td>\n    </tr>\n    <tr>\n      <th>2</th>\n      <td>As a software developer at our company, I want...</td>\n      <td>Sensor Integration</td>\n      <td>0</td>\n    </tr>\n    <tr>\n      <th>3</th>\n      <td>As a software developer at our company, I want...</td>\n      <td>Smart contracts</td>\n      <td>0</td>\n    </tr>\n    <tr>\n      <th>4</th>\n      <td>As a software developer at our company, I want...</td>\n      <td>Pandas</td>\n      <td>0</td>\n    </tr>\n    <tr>\n      <th>...</th>\n      <td>...</td>\n      <td>...</td>\n      <td>...</td>\n    </tr>\n    <tr>\n      <th>713</th>\n      <td>As a data analyst, I want to develop a text pr...</td>\n      <td>Firewall Configuration</td>\n      <td>2</td>\n    </tr>\n    <tr>\n      <th>714</th>\n      <td>As a member of the development team, I want to...</td>\n      <td>UX/UI Design and Prototyping</td>\n      <td>2</td>\n    </tr>\n    <tr>\n      <th>715</th>\n      <td>As a software developer, I want to containeriz...</td>\n      <td>Usability Testing</td>\n      <td>2</td>\n    </tr>\n    <tr>\n      <th>716</th>\n      <td>As a web developer, I want to enhance the user...</td>\n      <td>Big Data Technologies</td>\n      <td>2</td>\n    </tr>\n    <tr>\n      <th>717</th>\n      <td>As a database engineer in our software company...</td>\n      <td>Intrusion Detection</td>\n      <td>2</td>\n    </tr>\n  </tbody>\n</table>\n<p>718 rows × 3 columns</p>\n</div>"
     },
     "execution_count": 21,
     "metadata": {},
     "output_type": "execute_result"
    }
   ],
   "source": [
    "df"
   ],
   "metadata": {
    "collapsed": false,
    "ExecuteTime": {
     "end_time": "2024-06-14T06:40:26.508718100Z",
     "start_time": "2024-06-14T06:40:26.504687600Z"
    }
   },
   "id": "bdf1a7bcf376d34d"
  },
  {
   "cell_type": "code",
   "execution_count": 22,
   "outputs": [],
   "source": [
    "#df['premise'] = df['premise'].apply(lambda x: ','.join(str(element) for element in x))"
   ],
   "metadata": {
    "collapsed": false,
    "ExecuteTime": {
     "end_time": "2024-06-14T06:40:26.510424400Z",
     "start_time": "2024-06-14T06:40:26.508718100Z"
    }
   },
   "id": "bc463838632a4735"
  },
  {
   "cell_type": "code",
   "execution_count": 23,
   "outputs": [],
   "source": [
    "#df"
   ],
   "metadata": {
    "collapsed": false,
    "ExecuteTime": {
     "end_time": "2024-06-14T06:40:26.514232400Z",
     "start_time": "2024-06-14T06:40:26.511428200Z"
    }
   },
   "id": "d1e6a19f9f872a1d"
  },
  {
   "cell_type": "code",
   "execution_count": 24,
   "outputs": [],
   "source": [
    "df.reset_index(drop=True, inplace=True)"
   ],
   "metadata": {
    "collapsed": false,
    "ExecuteTime": {
     "end_time": "2024-06-14T06:40:26.522862800Z",
     "start_time": "2024-06-14T06:40:26.514232400Z"
    }
   },
   "id": "56668a2dbf9d633c"
  },
  {
   "cell_type": "code",
   "execution_count": 25,
   "outputs": [],
   "source": [
    "def shuffle_df(old_df: pd.DataFrame, cycles: int = 1) -> pd.DataFrame:\n",
    "    np.random.seed(42)\n",
    "    for i in range(cycles):\n",
    "        new_df = old_df.sample(frac=1).reset_index(drop=True)\n",
    "        return new_df"
   ],
   "metadata": {
    "collapsed": false,
    "ExecuteTime": {
     "end_time": "2024-06-14T06:40:26.537097Z",
     "start_time": "2024-06-14T06:40:26.518450600Z"
    }
   },
   "id": "10bb994e77f4286b"
  },
  {
   "cell_type": "code",
   "execution_count": 26,
   "outputs": [],
   "source": [
    "def create_input_sequence(sample):\n",
    "    text = sample[\"premise\"]\n",
    "    hypothesis = sample['hypothesis']\n",
    "    nli_label = sample['class']\n",
    "\n",
    "    # Encoding the sequence using the tokenizer\n",
    "    encoded_sequence = tokenizer(text, hypothesis, truncation=True, padding='max_length')\n",
    "    # Assign label to the encoded sequence\n",
    "    encoded_sequence['labels'] = nli_label\n",
    "    # Decode the input_ids\n",
    "    encoded_sequence[\"input_sentence\"] = tokenizer.batch_decode(encoded_sequence.input_ids)\n",
    "    return encoded_sequence"
   ],
   "metadata": {
    "collapsed": false,
    "ExecuteTime": {
     "end_time": "2024-06-14T06:40:26.553245700Z",
     "start_time": "2024-06-14T06:40:26.521355Z"
    }
   },
   "id": "36339c22c01354cc"
  },
  {
   "cell_type": "code",
   "execution_count": 27,
   "outputs": [],
   "source": [
    "# Function to encode the dataset\n",
    "def encode_examples(examples):\n",
    "    encoding = tokenizer( examples['hypothesis'], examples['premise'], truncation=True)\n",
    "    encoding['labels'] = examples['class']\n",
    "    encoding[\"input_sentence\"] = tokenizer.batch_decode(encoding.input_ids)\n",
    "    return encoding"
   ],
   "metadata": {
    "collapsed": false,
    "ExecuteTime": {
     "end_time": "2024-06-14T06:40:26.553245700Z",
     "start_time": "2024-06-14T06:40:26.524867800Z"
    }
   },
   "id": "c1b88512f2f82e66"
  },
  {
   "cell_type": "code",
   "execution_count": 28,
   "outputs": [],
   "source": [
    "test_size = 0.8"
   ],
   "metadata": {
    "collapsed": false,
    "ExecuteTime": {
     "end_time": "2024-06-14T06:40:26.569897400Z",
     "start_time": "2024-06-14T06:40:26.526943200Z"
    }
   },
   "id": "396a164fe189e61c"
  },
  {
   "cell_type": "code",
   "execution_count": 29,
   "outputs": [],
   "source": [
    "train_data, test_data = train_test_split(df, test_size=test_size, random_state=42)\n",
    "train_shuffle_df = shuffle_df(train_data)\n",
    "test_shuffle_df = shuffle_df(test_data)\n",
    "\n",
    "# Create a Dataset object from the shuffled train DataFrame\n",
    "train = Dataset.from_pandas(train_shuffle_df)\n",
    "test = Dataset.from_pandas(test_shuffle_df)"
   ],
   "metadata": {
    "collapsed": false,
    "ExecuteTime": {
     "end_time": "2024-06-14T06:40:26.585412100Z",
     "start_time": "2024-06-14T06:40:26.530097200Z"
    }
   },
   "id": "116b8e05c088d0db"
  },
  {
   "cell_type": "code",
   "execution_count": 30,
   "outputs": [
    {
     "data": {
      "text/plain": "Map:   0%|          | 0/143 [00:00<?, ? examples/s]",
      "application/vnd.jupyter.widget-view+json": {
       "version_major": 2,
       "version_minor": 0,
       "model_id": "a0a1430a0396416ab948eb40798f5513"
      }
     },
     "metadata": {},
     "output_type": "display_data"
    }
   ],
   "source": [
    "# Map the create_input_sequence function to the train and test datasets - This function encodes the data, adds labels, and generates input sentences\n",
    "train_dataset = train.map(encode_examples, batched=True, batch_size=1, remove_columns=[\"class\", \"premise\"])"
   ],
   "metadata": {
    "collapsed": false,
    "ExecuteTime": {
     "end_time": "2024-06-14T06:40:26.700392400Z",
     "start_time": "2024-06-14T06:40:26.543739Z"
    }
   },
   "id": "bfcc70bafd3c84bd"
  },
  {
   "cell_type": "code",
   "execution_count": 31,
   "outputs": [
    {
     "data": {
      "text/plain": "Map:   0%|          | 0/575 [00:00<?, ? examples/s]",
      "application/vnd.jupyter.widget-view+json": {
       "version_major": 2,
       "version_minor": 0,
       "model_id": "6a3a875d8a5547309fdadc801914dcbd"
      }
     },
     "metadata": {},
     "output_type": "display_data"
    }
   ],
   "source": [
    "test_dataset = test.map(encode_examples, batched=True, batch_size=1, remove_columns=[\"class\", \"premise\"])"
   ],
   "metadata": {
    "collapsed": false,
    "ExecuteTime": {
     "end_time": "2024-06-14T06:40:27.245180Z",
     "start_time": "2024-06-14T06:40:26.701396900Z"
    }
   },
   "id": "1c7972a0d58b6ecd"
  },
  {
   "cell_type": "code",
   "execution_count": 32,
   "outputs": [],
   "source": [
    "from transformers import EvalPrediction\n",
    "\n",
    "\n",
    "def compute_metrics(p: EvalPrediction):\n",
    "    # Extracting predictions from EvalPrediction object\n",
    "    preds = p.predictions[0] if isinstance(p.predictions, tuple) else p.predictions\n",
    "    # Obtaining the predicted classes\n",
    "    preds = np.argmax(preds, axis=1)\n",
    "\n",
    "    # Calculating the ratio of predictions equals to 2 (assumed label)\n",
    "    ratio = np.mean(preds == 2)\n",
    "\n",
    "    # Dictionary to store computed metrics\n",
    "    metric_result = {}\n",
    "\n",
    "    # Loading evaluation metrics\n",
    "    metric_f1 = load_metric(\"f1\", trust_remote_code=True)\n",
    "    metric_precision = load_metric(\"precision\", trust_remote_code=True)\n",
    "    metric_recall = load_metric(\"recall\", trust_remote_code=True)\n",
    "    metric_acc = load_metric(\"accuracy\", trust_remote_code=True)\n",
    "\n",
    "    # Computing various metrics\n",
    "    metric_result[\"accuracy\"] = metric_acc.compute(predictions=preds, references=p.label_ids)[\"accuracy\"]\n",
    "    metric_result[\"precision\"] = metric_precision.compute(predictions=preds, references=p.label_ids, average='macro')['precision']\n",
    "    metric_result[\"recall\"] = metric_recall.compute(predictions=preds, references=p.label_ids, average='macro')[\"recall\"]\n",
    "    metric_result[\"f1\"] = metric_f1.compute(predictions=preds, references=p.label_ids, average='macro')[\"f1\"]\n",
    "    metric_result[\"ratio\"] = ratio\n",
    "\n",
    "    return metric_result"
   ],
   "metadata": {
    "collapsed": false,
    "ExecuteTime": {
     "end_time": "2024-06-14T06:40:27.247295500Z",
     "start_time": "2024-06-14T06:40:27.246179900Z"
    }
   },
   "id": "3c93a6f310cad0fe"
  },
  {
   "cell_type": "code",
   "execution_count": 33,
   "outputs": [],
   "source": [
    "model.gradient_checkpointing_enable()\n",
    "model.config.use_cache = False"
   ],
   "metadata": {
    "collapsed": false,
    "ExecuteTime": {
     "end_time": "2024-06-14T06:40:27.251944500Z",
     "start_time": "2024-06-14T06:40:27.248805400Z"
    }
   },
   "id": "d73f1874d8dc8035"
  },
  {
   "cell_type": "code",
   "execution_count": 34,
   "outputs": [
    {
     "data": {
      "text/plain": "'do = True\\ntrain_batch = 16\\neval_batch = 2\\nlr = 1e-05\\nweight = 0.1\\neps = 1\\nwarm = 50\\nwd = 0.01\\nwarm_ratio = 0.1'"
     },
     "execution_count": 34,
     "metadata": {},
     "output_type": "execute_result"
    }
   ],
   "source": [
    "\"\"\"do = True\n",
    "train_batch = 16\n",
    "eval_batch = 2\n",
    "lr = 1e-05\n",
    "weight = 0.1\n",
    "eps = 1\n",
    "warm = 50\n",
    "wd = 0.01\n",
    "warm_ratio = 0.1\"\"\""
   ],
   "metadata": {
    "collapsed": false
   },
   "id": "b9112f4feb70da29"
  },
  {
   "cell_type": "code",
   "execution_count": 35,
   "outputs": [
    {
     "data": {
      "text/plain": "'training_args = TrainingArguments(\\n    output_dir=\"test_trainer_Trainer\",  # Output directory\\n    num_train_epochs=eps,\\n    do_train=do,\\n    per_device_train_batch_size=train_batch,\\n    per_device_eval_batch_size=eval_batch,\\n    learning_rate=lr,\\n    warmup_steps=warm,  # Number of warmup steps for learning rate scheduler\\n    weight_decay=wd,  # Strength of weight decay\\n    gradient_accumulation_steps=2,  # The number of steps whose gradients are accumulated\\n    warmup_ratio=warm_ratio,  # Represents the proportion of training steps\\n)'"
     },
     "execution_count": 35,
     "metadata": {},
     "output_type": "execute_result"
    }
   ],
   "source": [
    "\"\"\"training_args = TrainingArguments(\n",
    "    output_dir=\"test_trainer_Trainer\",  # Output directory\n",
    "    num_train_epochs=eps,\n",
    "    do_train=do,\n",
    "    per_device_train_batch_size=train_batch,\n",
    "    per_device_eval_batch_size=eval_batch,\n",
    "    learning_rate=lr,\n",
    "    warmup_steps=warm,  # Number of warmup steps for learning rate scheduler\n",
    "    weight_decay=wd,  # Strength of weight decay\n",
    "    gradient_accumulation_steps=2,  # The number of steps whose gradients are accumulated\n",
    "    warmup_ratio=warm_ratio,  # Represents the proportion of training steps\n",
    ")\"\"\""
   ],
   "metadata": {
    "collapsed": false
   },
   "id": "4c4bea396e2c3f3"
  },
  {
   "cell_type": "code",
   "execution_count": 36,
   "outputs": [
    {
     "data": {
      "text/plain": "'\\ntraining_args = TrainingArguments(\\n    output_dir=\"test_trainer_Trainer_deberta\",\\n    num_train_epochs=3,              # total number of training epochs\\n    learning_rate=2e-05,\\n    per_device_train_batch_size=32,   # batch size per device during training\\n    per_device_eval_batch_size=32,    # batch size for evaluation\\n    warmup_ratio=0.1,                # number of warmup steps for learning rate scheduler\\n    weight_decay=0.06,               # strength of weight decay\\n    fp16=True                        # mixed precision training\\n)'"
     },
     "execution_count": 36,
     "metadata": {},
     "output_type": "execute_result"
    }
   ],
   "source": [
    "train_batch = 32\n",
    "eval_batch = 32\n",
    "lr = 2e-05\n",
    "eps = 3\n",
    "wd = 0.06\n",
    "warm_ratio = 0.1\n",
    "training_args = TrainingArguments(\n",
    "    output_dir=f\"test_trainer_Trainer_{model_name}\",\n",
    "    num_train_epochs=3,              # total number of training epochs\n",
    "    learning_rate=2e-05,\n",
    "    per_device_train_batch_size=32,   # batch size per device during training\n",
    "    per_device_eval_batch_size=32,    # batch size for evaluation\n",
    "    warmup_ratio=0.1,                # number of warmup steps for learning rate scheduler\n",
    "    weight_decay=0.06,               # strength of weight decay\n",
    "    fp16=True                        # mixed precision training\n",
    ")\n",
    "\"\"\"\n",
    "training_args = TrainingArguments(\n",
    "    output_dir=\"test_trainer_Trainer_deberta\",\n",
    "    num_train_epochs=3,              # total number of training epochs\n",
    "    learning_rate=2e-05,\n",
    "    per_device_train_batch_size=32,   # batch size per device during training\n",
    "    per_device_eval_batch_size=32,    # batch size for evaluation\n",
    "    warmup_ratio=0.1,                # number of warmup steps for learning rate scheduler\n",
    "    weight_decay=0.06,               # strength of weight decay\n",
    "    fp16=True                        # mixed precision training\n",
    ")\"\"\""
   ],
   "metadata": {
    "collapsed": false,
    "ExecuteTime": {
     "end_time": "2024-06-14T06:40:27.310086600Z",
     "start_time": "2024-06-14T06:40:27.260734900Z"
    }
   },
   "id": "aa6edd377e20632b"
  },
  {
   "cell_type": "code",
   "execution_count": 37,
   "outputs": [],
   "source": [
    "trainer = Trainer(\n",
    "    model=model,\n",
    "    args=training_args,\n",
    "    train_dataset=train_dataset,\n",
    "    eval_dataset=test_dataset,\n",
    "    compute_metrics=compute_metrics,\n",
    "    tokenizer=tokenizer\n",
    ")"
   ],
   "metadata": {
    "collapsed": false,
    "ExecuteTime": {
     "end_time": "2024-06-14T06:40:27.664177900Z",
     "start_time": "2024-06-14T06:40:27.310086600Z"
    }
   },
   "id": "868904be129ec2a8"
  },
  {
   "cell_type": "code",
   "execution_count": 39,
   "outputs": [
    {
     "name": "stderr",
     "output_type": "stream",
     "text": [
      "D:\\Thesis\\venv\\Lib\\site-packages\\transformers\\models\\bart\\modeling_bart.py:597: UserWarning: 1Torch was not compiled with flash attention. (Triggered internally at ..\\aten\\src\\ATen\\native\\transformers\\cuda\\sdp_utils.cpp:263.)\n",
      "  attn_output = torch.nn.functional.scaled_dot_product_attention(\n"
     ]
    },
    {
     "data": {
      "text/plain": "<IPython.core.display.HTML object>",
      "text/html": "\n    <div>\n      \n      <progress value='2' max='15' style='width:300px; height:20px; vertical-align: middle;'></progress>\n      [ 2/15 : < :, Epoch 0.20/3]\n    </div>\n    <table border=\"1\" class=\"dataframe\">\n  <thead>\n <tr style=\"text-align: left;\">\n      <th>Step</th>\n      <th>Training Loss</th>\n    </tr>\n  </thead>\n  <tbody>\n  </tbody>\n</table><p>"
     },
     "metadata": {},
     "output_type": "display_data"
    },
    {
     "data": {
      "text/plain": "TrainOutput(global_step=15, training_loss=1.0966145833333334, metrics={'train_runtime': 4.7477, 'train_samples_per_second': 90.359, 'train_steps_per_second': 3.159, 'total_flos': 64103399967600.0, 'train_loss': 1.0966145833333334, 'epoch': 3.0})"
     },
     "execution_count": 39,
     "metadata": {},
     "output_type": "execute_result"
    }
   ],
   "source": [
    "trainer.train()"
   ],
   "metadata": {
    "collapsed": false,
    "ExecuteTime": {
     "end_time": "2024-06-14T06:40:32.551786300Z",
     "start_time": "2024-06-14T06:40:27.667579Z"
    }
   },
   "id": "f0ce14d92ab4883a"
  },
  {
   "cell_type": "code",
   "execution_count": 40,
   "outputs": [
    {
     "data": {
      "text/plain": "<IPython.core.display.HTML object>",
      "text/html": "\n    <div>\n      \n      <progress value='1' max='18' style='width:300px; height:20px; vertical-align: middle;'></progress>\n      [ 1/18 : < :]\n    </div>\n    "
     },
     "metadata": {},
     "output_type": "display_data"
    },
    {
     "name": "stderr",
     "output_type": "stream",
     "text": [
      "C:\\Users\\Coco\\AppData\\Local\\Temp\\ipykernel_21032\\1772683132.py:17: FutureWarning: load_metric is deprecated and will be removed in the next major version of datasets. Use 'evaluate.load' instead, from the new library 🤗 Evaluate: https://huggingface.co/docs/evaluate\n",
      "  metric_f1 = load_metric(\"f1\", trust_remote_code=True)\n"
     ]
    },
    {
     "data": {
      "text/plain": "{'eval_loss': 0.373416006565094,\n 'eval_accuracy': 0.8556521739130435,\n 'eval_precision': 0.8755286893599674,\n 'eval_recall': 0.8566545674531156,\n 'eval_f1': 0.8539541772624479,\n 'eval_ratio': 0.6121739130434782,\n 'eval_runtime': 3.3101,\n 'eval_samples_per_second': 173.709,\n 'eval_steps_per_second': 5.438,\n 'epoch': 3.0}"
     },
     "execution_count": 40,
     "metadata": {},
     "output_type": "execute_result"
    }
   ],
   "source": [
    "trainer.evaluate()"
   ],
   "metadata": {
    "collapsed": false,
    "ExecuteTime": {
     "end_time": "2024-06-14T06:40:35.879072500Z",
     "start_time": "2024-06-14T06:40:32.552928400Z"
    }
   },
   "id": "e090799b0380d48b"
  },
  {
   "cell_type": "code",
   "execution_count": 41,
   "outputs": [
    {
     "data": {
      "text/plain": "BartForSequenceClassification(\n  (model): BartModel(\n    (shared): Embedding(50265, 1024, padding_idx=1)\n    (encoder): BartEncoder(\n      (embed_tokens): Embedding(50265, 1024, padding_idx=1)\n      (embed_positions): BartLearnedPositionalEmbedding(1026, 1024)\n      (layers): ModuleList(\n        (0-11): 12 x BartEncoderLayer(\n          (self_attn): BartSdpaAttention(\n            (k_proj): Linear(in_features=1024, out_features=1024, bias=True)\n            (v_proj): Linear(in_features=1024, out_features=1024, bias=True)\n            (q_proj): Linear(in_features=1024, out_features=1024, bias=True)\n            (out_proj): Linear(in_features=1024, out_features=1024, bias=True)\n          )\n          (self_attn_layer_norm): LayerNorm((1024,), eps=1e-05, elementwise_affine=True)\n          (activation_fn): GELUActivation()\n          (fc1): Linear(in_features=1024, out_features=4096, bias=True)\n          (fc2): Linear(in_features=4096, out_features=1024, bias=True)\n          (final_layer_norm): LayerNorm((1024,), eps=1e-05, elementwise_affine=True)\n        )\n      )\n      (layernorm_embedding): LayerNorm((1024,), eps=1e-05, elementwise_affine=True)\n    )\n    (decoder): BartDecoder(\n      (embed_tokens): Embedding(50265, 1024, padding_idx=1)\n      (embed_positions): BartLearnedPositionalEmbedding(1026, 1024)\n      (layers): ModuleList(\n        (0-11): 12 x BartDecoderLayer(\n          (self_attn): BartSdpaAttention(\n            (k_proj): Linear(in_features=1024, out_features=1024, bias=True)\n            (v_proj): Linear(in_features=1024, out_features=1024, bias=True)\n            (q_proj): Linear(in_features=1024, out_features=1024, bias=True)\n            (out_proj): Linear(in_features=1024, out_features=1024, bias=True)\n          )\n          (activation_fn): GELUActivation()\n          (self_attn_layer_norm): LayerNorm((1024,), eps=1e-05, elementwise_affine=True)\n          (encoder_attn): BartSdpaAttention(\n            (k_proj): Linear(in_features=1024, out_features=1024, bias=True)\n            (v_proj): Linear(in_features=1024, out_features=1024, bias=True)\n            (q_proj): Linear(in_features=1024, out_features=1024, bias=True)\n            (out_proj): Linear(in_features=1024, out_features=1024, bias=True)\n          )\n          (encoder_attn_layer_norm): LayerNorm((1024,), eps=1e-05, elementwise_affine=True)\n          (fc1): Linear(in_features=1024, out_features=4096, bias=True)\n          (fc2): Linear(in_features=4096, out_features=1024, bias=True)\n          (final_layer_norm): LayerNorm((1024,), eps=1e-05, elementwise_affine=True)\n        )\n      )\n      (layernorm_embedding): LayerNorm((1024,), eps=1e-05, elementwise_affine=True)\n    )\n  )\n  (classification_head): BartClassificationHead(\n    (dense): Linear(in_features=1024, out_features=1024, bias=True)\n    (dropout): Dropout(p=0.0, inplace=False)\n    (out_proj): Linear(in_features=1024, out_features=3, bias=True)\n  )\n)"
     },
     "execution_count": 41,
     "metadata": {},
     "output_type": "execute_result"
    }
   ],
   "source": [
    "model.eval()"
   ],
   "metadata": {
    "collapsed": false,
    "ExecuteTime": {
     "end_time": "2024-06-14T06:40:35.885202200Z",
     "start_time": "2024-06-14T06:40:35.882183500Z"
    }
   },
   "id": "3490ff0933eeb0a1"
  },
  {
   "cell_type": "code",
   "execution_count": 43,
   "outputs": [
    {
     "name": "stderr",
     "output_type": "stream",
     "text": [
      "Some non-default generation parameters are set in the model config. These should go into a GenerationConfig file (https://huggingface.co/docs/transformers/generation_strategies#save-a-custom-decoding-strategy-with-your-model) instead. This warning will be raised to an exception in v4.41.\n",
      "Non-default generation parameters: {'forced_eos_token_id': 2}\n"
     ]
    }
   ],
   "source": [
    "from datetime import datetime\n",
    "\n",
    "model.save_pretrained(f\"test_trainer_Trainer_{model_name}/{datetime.now().strftime('%Y%m%d-%H%M%S')}\",from_pt=True)"
   ],
   "metadata": {
    "collapsed": false,
    "ExecuteTime": {
     "end_time": "2024-06-14T06:42:33.580338800Z",
     "start_time": "2024-06-14T06:42:30.171220300Z"
    }
   },
   "id": "ee79980b6b0b609e"
  },
  {
   "cell_type": "markdown",
   "source": [
    "Create Pipeline with the new model"
   ],
   "metadata": {
    "collapsed": false
   },
   "id": "4c08dac08f8aae47"
  },
  {
   "cell_type": "code",
   "execution_count": 44,
   "outputs": [],
   "source": [
    "# Create new pipeline object with our fine-tuned model and tokenizer\n",
    "model.config.use_cache = True\n",
    "classifier_after = pipeline('zero-shot-classification', model=model, tokenizer=tokenizer, device=device)\n",
    "after_results = classifier_after(user_stories, labels, multi_label=True)"
   ],
   "metadata": {
    "collapsed": false,
    "ExecuteTime": {
     "end_time": "2024-06-14T06:46:17.180321Z",
     "start_time": "2024-06-14T06:42:33.582096700Z"
    }
   },
   "id": "1b36bf38181d6364"
  },
  {
   "cell_type": "code",
   "execution_count": 45,
   "outputs": [],
   "source": [
    "#model_name = \"deberta\"\n",
    "split = str(test_size).replace(\".\",\"\") + f\"_{eps}_{lr}_{train_batch}{eval_batch}_{warm_ratio}_{wd}_exploded\""
   ],
   "metadata": {
    "collapsed": false,
    "ExecuteTime": {
     "end_time": "2024-06-14T06:46:17.186140400Z",
     "start_time": "2024-06-14T06:46:17.181320400Z"
    }
   },
   "id": "8721406e005b6138"
  },
  {
   "cell_type": "code",
   "execution_count": 46,
   "outputs": [],
   "source": [
    "with open(f\"output_txt/{model_name}_{split}.txt\", 'w') as f:\n",
    "    for story, result in zip(user_stories, after_results):\n",
    "        f.write(f\"Story: {story}\\n\")\n",
    "        for label, score in zip(result['labels'], result['scores']):\n",
    "            f.write(f\"- {label}: {score:.2f}\\n\")"
   ],
   "metadata": {
    "collapsed": false,
    "ExecuteTime": {
     "end_time": "2024-06-14T06:46:17.206704Z",
     "start_time": "2024-06-14T06:46:17.184140700Z"
    }
   },
   "id": "e937c71119f19bbe"
  },
  {
   "cell_type": "code",
   "execution_count": 47,
   "outputs": [
    {
     "name": "stdout",
     "output_type": "stream",
     "text": [
      "D:\\Thesis\\FineTuning\n"
     ]
    }
   ],
   "source": [
    "print(os.getcwd())\n",
    "file_dir = os.getcwd()\n",
    "#dir = os.path.abspath(\"\")\n",
    "csv = Conv.CsvConverter(os.path.join(file_dir, 'output_txt',f'{model_name}_{split}.txt'),\n",
    "                        os.path.join(file_dir, 'output_csv', f'{model_name}_{split}.csv'),\n",
    "                        'Story')\n",
    "csv.convert()"
   ],
   "metadata": {
    "collapsed": false,
    "ExecuteTime": {
     "end_time": "2024-06-14T06:46:17.245055400Z",
     "start_time": "2024-06-14T06:46:17.207704100Z"
    }
   },
   "id": "13d439cfa2b1a884"
  },
  {
   "cell_type": "code",
   "execution_count": 48,
   "outputs": [
    {
     "name": "stdout",
     "output_type": "stream",
     "text": [
      "---_08_3_2e-05_3232_0.1_0.06_exploded---\n",
      "---BART---\n",
      "  Threshold    Label Density    Subset Accuracy    Recall    F1 Score    F-Beta Score    Hamming Loss    ROC AUC    Jaccard Loss\n",
      "-----------  ---------------  -----------------  --------  ----------  --------------  --------------  ---------  --------------\n",
      "       1                0                     0    0           0               0               0.028      0.5             0\n",
      "       0.95            23.82                  0    0.005       0.0027          0.0032          0.2138     0.4069          0.0015\n",
      "       0.9             72.97                  0    0.0455      0.0047          0.0072          0.5952     0.2302          0.0024\n",
      "       0.8            112.52                  0    0.1265      0.0086          0.0134          0.899      0.1131          0.0044\n",
      "       0.5            124.53                  0    0.383       0.0232          0.0362          0.9773     0.1971          0.0119\n",
      "Differences:\n",
      "  Threshold    Label Density    Subset Accuracy    Recall    F1 Score    F-Beta Score    Hamming Loss    ROC AUC    Jaccard Loss\n",
      "-----------  ---------------  -----------------  --------  ----------  --------------  --------------  ---------  --------------\n",
      "          0            -0.12            -0.0156   -0.0252     -0.039          -0.0322          0.0006    -0.0125         -0.0252\n",
      "          0            22.09            -0.1328   -0.3488     -0.4117         -0.3811          0.1913    -0.2679         -0.3094\n",
      "          0            70.44            -0.1641   -0.4573     -0.5217         -0.5031          0.5744    -0.518          -0.4131\n",
      "          0           109.38            -0.25     -0.4849     -0.5855         -0.5798          0.8791    -0.6884         -0.4822\n",
      "          0           117.54            -0.2031   -0.3703     -0.5043         -0.5463          0.935     -0.6618         -0.3926\n"
     ]
    }
   ],
   "source": [
    "import MetricsGenerator as Metrics\n",
    "dir = os.getcwd()\n",
    "end_dir = os.path.join(dir, \"output_csv\")\n",
    "if model_name == \"bart\":\n",
    "    metrics = Metrics.MetricsGenerator(f\"_{split}\", dir, end_dir, False, True, False).main()\n",
    "else:\n",
    "    metrics = Metrics.MetricsGenerator(f\"_{split}\", dir, end_dir, False, False, True).main()"
   ],
   "metadata": {
    "collapsed": false,
    "ExecuteTime": {
     "end_time": "2024-06-14T06:46:17.522868500Z",
     "start_time": "2024-06-14T06:46:17.246054500Z"
    }
   },
   "id": "7aa1450656a492eb"
  },
  {
   "cell_type": "code",
   "execution_count": null,
   "outputs": [],
   "source": [
    "\"\"\"training_args = TrainingArguments(\n",
    "    output_dir=\"test_trainer\",  # Output directory\n",
    "    logging_dir=\"test_trainer/logs\",\n",
    "    learning_rate=1e-05,\n",
    "    per_device_train_batch_size=16,\n",
    "    per_device_eval_batch_size=16,\n",
    "    seed=42,\n",
    "    optim=\"adamw_torch\",\n",
    "    adam_beta1=0.9,\n",
    "    adam_beta2=0.999,\n",
    "    adam_epsilon=1e-08,\n",
    "    lr_scheduler_type=\"linear\",\n",
    "    num_train_epochs=1,\n",
    ")\"\"\"\n",
    "\"\"\"training_args = TrainingArguments(\n",
    "    output_dir=\"test_trainer\",  # Output directory\n",
    "    logging_dir=\"test_trainer/logs\",  # Output directory for logging\n",
    "    num_train_epochs=32,  # Total number of training epochs\n",
    "    per_device_train_batch_size=16,  # Batch size per device during training\n",
    "    per_device_eval_batch_size=64,  # Batch size for evaluation\n",
    "    warmup_steps=500,  # Number of warmup steps for learning rate scheduler\n",
    "    weight_decay=0.01,  # Strength of weight decay\n",
    "    gradient_accumulation_steps=2,  # The number of steps whose gradients are accumulated\n",
    "    learning_rate=5e-05,  # Controls the magnitude of updates to the model weights\n",
    "    warmup_ratio=0.06,  # Represents the proportion of training steps\n",
    "    label_smoothing_factor=0.1,  # Regularization technique to prevent the model from becoming overconfident\n",
    "    eval_strategy='steps',  # Frequency or timing of evaluating\n",
    "    logging_strategy='steps',  # Frequency or timing of logging\n",
    "    logging_steps=10,  # Frequency or timing of logging\n",
    "    eval_steps=10,  # Frequency or timing of evaluating\n",
    "    logging_first_step=True,\n",
    "    do_eval=True,\n",
    ")\"\"\""
   ],
   "metadata": {
    "collapsed": false,
    "ExecuteTime": {
     "start_time": "2024-06-14T06:40:36.896353Z"
    }
   },
   "id": "578723755d650216"
  },
  {
   "cell_type": "code",
   "execution_count": null,
   "outputs": [],
   "source": [],
   "metadata": {
    "collapsed": false,
    "ExecuteTime": {
     "start_time": "2024-06-14T06:40:36.897353900Z"
    }
   },
   "id": "8093857a5038b472"
  }
 ],
 "metadata": {
  "kernelspec": {
   "display_name": "Python 3",
   "language": "python",
   "name": "python3"
  },
  "language_info": {
   "codemirror_mode": {
    "name": "ipython",
    "version": 2
   },
   "file_extension": ".py",
   "mimetype": "text/x-python",
   "name": "python",
   "nbconvert_exporter": "python",
   "pygments_lexer": "ipython2",
   "version": "2.7.6"
  }
 },
 "nbformat": 4,
 "nbformat_minor": 5
}
